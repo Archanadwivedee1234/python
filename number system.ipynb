{
 "cells": [
  {
   "cell_type": "code",
   "execution_count": null,
   "metadata": {},
   "outputs": [],
   "source": [
    "# Decimal number :0,1,2,3,4,5,6,7,8,9 = base = 10\n",
    "# octal number :0,1,2,3,4,5,6,7 = base = 8\n",
    "# Hexadecimal number :0,1,2,3,4,5,6,7,8,9,a,b,c,d,e,f= base=16\n",
    "# Binary number :0,1 = base=2"
   ]
  },
  {
   "cell_type": "code",
   "execution_count": null,
   "metadata": {},
   "outputs": [],
   "source": [
    "a=100\n",
    "print(a)\n"
   ]
  },
  {
   "cell_type": "code",
   "execution_count": null,
   "metadata": {},
   "outputs": [],
   "source": []
  }
 ],
 "metadata": {
  "language_info": {
   "name": "python"
  },
  "orig_nbformat": 4
 },
 "nbformat": 4,
 "nbformat_minor": 2
}
