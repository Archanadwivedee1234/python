{
 "cells": [
  {
   "cell_type": "code",
   "execution_count": 2,
   "metadata": {},
   "outputs": [
    {
     "name": "stdout",
     "output_type": "stream",
     "text": [
      "{1, 2, 3, 5, 7, 8}\n"
     ]
    }
   ],
   "source": [
    "s1={1,5,7,8}\n",
    "s2={1,2,3}\n",
    "print(s1.union(s2))"
   ]
  },
  {
   "cell_type": "code",
   "execution_count": 3,
   "metadata": {},
   "outputs": [
    {
     "name": "stdout",
     "output_type": "stream",
     "text": [
      "{1, 2, 3, 5, 7, 8}\n"
     ]
    }
   ],
   "source": [
    "s1={1,5,7,8}\n",
    "s2={1,2,3}\n",
    "print(s2.union(s1))#just reverse process and same value"
   ]
  },
  {
   "cell_type": "code",
   "execution_count": 4,
   "metadata": {},
   "outputs": [
    {
     "name": "stdout",
     "output_type": "stream",
     "text": [
      "{1}\n"
     ]
    }
   ],
   "source": [
    "s1={1,5,7,8}\n",
    "s2={1,2,3}\n",
    "print(s1.intersection(s2))"
   ]
  },
  {
   "cell_type": "code",
   "execution_count": 5,
   "metadata": {},
   "outputs": [
    {
     "name": "stdout",
     "output_type": "stream",
     "text": [
      "{1}\n"
     ]
    }
   ],
   "source": [
    "s1={1,5,7,8}\n",
    "s2={1,2,3}\n",
    "print(s2.intersection(s1))"
   ]
  },
  {
   "cell_type": "code",
   "execution_count": 6,
   "metadata": {},
   "outputs": [
    {
     "name": "stdout",
     "output_type": "stream",
     "text": [
      "None\n"
     ]
    }
   ],
   "source": [
    "s1={1,5,7,8}\n",
    "s2={1,2,3}\n",
    "print(s1.update(s2))"
   ]
  },
  {
   "cell_type": "code",
   "execution_count": 7,
   "metadata": {},
   "outputs": [
    {
     "name": "stdout",
     "output_type": "stream",
     "text": [
      "None\n"
     ]
    }
   ],
   "source": [
    "s1={1,5,7,8}\n",
    "s2={1,2,3}\n",
    "print(s1.update(s2))"
   ]
  },
  {
   "cell_type": "code",
   "execution_count": null,
   "metadata": {},
   "outputs": [],
   "source": []
  },
  {
   "cell_type": "code",
   "execution_count": 10,
   "metadata": {},
   "outputs": [
    {
     "name": "stdout",
     "output_type": "stream",
     "text": [
      "{'delhi', 'madrid', 'seovl', 'berlin', 'medrid', 'kabul', 'tokyo'}\n"
     ]
    }
   ],
   "source": [
    "cities = {\"tokyo\",\"medrid\",\"berlin\",\"delhi\"}\n",
    "cities2 = {\"tokyo\",\"seovl\",\"kabul\",\"madrid\"}\n",
    "cities3 = cities.union(cities2)\n",
    "print(cities3)"
   ]
  },
  {
   "cell_type": "code",
   "execution_count": 12,
   "metadata": {},
   "outputs": [
    {
     "name": "stdout",
     "output_type": "stream",
     "text": [
      "{'tokyo'}\n"
     ]
    }
   ],
   "source": [
    "cities = {\"tokyo\",\"medrid\",\"berlin\",\"delhi\"}\n",
    "cities2 = {\"tokyo\",\"seovl\",\"kabul\",\"madrid\"}\n",
    "cities.intersection_update(cities2)\n",
    "print(cities)"
   ]
  },
  {
   "cell_type": "code",
   "execution_count": 13,
   "metadata": {},
   "outputs": [
    {
     "name": "stdout",
     "output_type": "stream",
     "text": [
      "{'delhi', 'tokyo', 'berlin', 'medrid'}\n"
     ]
    }
   ],
   "source": [
    "cities = {\"tokyo\",\"medrid\",\"berlin\",\"delhi\"}\n",
    "cities2 = {\"tokyo\",\"seovl\",\"kabul\",\"madrid\"}\n",
    "cities.intersection(cities2)\n",
    "print(cities)"
   ]
  },
  {
   "cell_type": "code",
   "execution_count": 15,
   "metadata": {},
   "outputs": [
    {
     "name": "stdout",
     "output_type": "stream",
     "text": [
      "{'madrid', 'tokyo'}\n"
     ]
    }
   ],
   "source": [
    "\n",
    "\n",
    "cities = {\"tokyo\",\"madrid\",\"berlin\",\"delhi\"}\n",
    "cities2 = {\"tokyo\",\"seovl\",\"kabul\",\"madrid\"}\n",
    "cities.intersection_update(cities2)\n",
    "print(cities)"
   ]
  },
  {
   "cell_type": "code",
   "execution_count": 27,
   "metadata": {},
   "outputs": [
    {
     "name": "stdout",
     "output_type": "stream",
     "text": [
      "{'delhi', 'seovl', 'berlin', 'medrid', 'kabul', 'tokyo'}\n"
     ]
    }
   ],
   "source": [
    "cities = {\"tokyo\",\"madrid\",\"berlin\",\"delhi\"}\n",
    "cities2 = {\"medrid\",\"seovl\",\"kabul\",\"madrid\"}\n",
    "cities.symmetric_difference_update(cities2)\n",
    "print(cities)\n"
   ]
  },
  {
   "cell_type": "code",
   "execution_count": 28,
   "metadata": {},
   "outputs": [
    {
     "ename": "AttributeError",
     "evalue": "'set' object has no attribute 'isjoint'",
     "output_type": "error",
     "traceback": [
      "\u001b[1;31m---------------------------------------------------------------------------\u001b[0m",
      "\u001b[1;31mAttributeError\u001b[0m                            Traceback (most recent call last)",
      "Cell \u001b[1;32mIn[28], line 3\u001b[0m\n\u001b[0;32m      1\u001b[0m cities \u001b[39m=\u001b[39m {\u001b[39m\"\u001b[39m\u001b[39mtokyo\u001b[39m\u001b[39m\"\u001b[39m,\u001b[39m\"\u001b[39m\u001b[39mmadrid\u001b[39m\u001b[39m\"\u001b[39m,\u001b[39m\"\u001b[39m\u001b[39mberlin\u001b[39m\u001b[39m\"\u001b[39m,\u001b[39m\"\u001b[39m\u001b[39mdelhi\u001b[39m\u001b[39m\"\u001b[39m}\n\u001b[0;32m      2\u001b[0m cities2 \u001b[39m=\u001b[39m {\u001b[39m\"\u001b[39m\u001b[39mmedrid\u001b[39m\u001b[39m\"\u001b[39m,\u001b[39m\"\u001b[39m\u001b[39mseovl\u001b[39m\u001b[39m\"\u001b[39m,\u001b[39m\"\u001b[39m\u001b[39mkabul\u001b[39m\u001b[39m\"\u001b[39m,\u001b[39m\"\u001b[39m\u001b[39mmadrid\u001b[39m\u001b[39m\"\u001b[39m}\n\u001b[1;32m----> 3\u001b[0m \u001b[39mprint\u001b[39m(cities\u001b[39m.\u001b[39;49misjoint(cities2))\n",
      "\u001b[1;31mAttributeError\u001b[0m: 'set' object has no attribute 'isjoint'"
     ]
    }
   ],
   "source": [
    "\n",
    "cities = {\"tokyo\",\"madrid\",\"berlin\",\"delhi\"}\n",
    "cities2 = {\"medrid\",\"seovl\",\"kabul\",\"madrid\"}\n",
    "print(cities.isdisjoint(cities2))\n"
   ]
  },
  {
   "cell_type": "code",
   "execution_count": null,
   "metadata": {},
   "outputs": [],
   "source": []
  }
 ],
 "metadata": {
  "kernelspec": {
   "display_name": "Python 3",
   "language": "python",
   "name": "python3"
  },
  "language_info": {
   "codemirror_mode": {
    "name": "ipython",
    "version": 3
   },
   "file_extension": ".py",
   "mimetype": "text/x-python",
   "name": "python",
   "nbconvert_exporter": "python",
   "pygments_lexer": "ipython3",
   "version": "3.11.3"
  },
  "orig_nbformat": 4
 },
 "nbformat": 4,
 "nbformat_minor": 2
}
